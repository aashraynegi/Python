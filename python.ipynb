{
 "cells": [
  {
   "cell_type": "code",
   "execution_count": 1,
   "id": "a539401f-0413-4502-8a48-aae965ebd307",
   "metadata": {},
   "outputs": [
    {
     "name": "stdout",
     "output_type": "stream",
     "text": [
      "8\n"
     ]
    }
   ],
   "source": [
    "# Lambda function to add two numbers\n",
    "\n",
    "add = lambda a, b: a + b\n",
    "print(add(3, 5))  # Output: 8Using a lambda function with map\n"
   ]
  },
  {
   "cell_type": "code",
   "execution_count": 2,
   "id": "83514311-7970-45a8-acf3-3b016cee4451",
   "metadata": {},
   "outputs": [
    {
     "name": "stdout",
     "output_type": "stream",
     "text": [
      "[1, 4, 9, 16]\n"
     ]
    }
   ],
   "source": [
    "numbers = [1, 2, 3, 4]\n",
    "squared = map(lambda x: x * x, numbers)\n",
    "print(list(squared))  # Output: [1, 4, 9, 16]"
   ]
  },
  {
   "cell_type": "code",
   "execution_count": 3,
   "id": "6a3c3ecb-7456-4b28-844e-b9f9a4ac6a82",
   "metadata": {},
   "outputs": [
    {
     "name": "stdout",
     "output_type": "stream",
     "text": [
      "[0, 4, 16, 36, 64]\n"
     ]
    }
   ],
   "source": [
    "# Example: Creating a list of squares of even numbers from 0 to 9 without list comprehension\n",
    "\n",
    "squares = []\n",
    "for i in range(10):\n",
    "    if i % 2 == 0:\n",
    "        squares.append(i ** 2)\n",
    "print(squares)"
   ]
  },
  {
   "cell_type": "code",
   "execution_count": 4,
   "id": "6087f3cc-66d2-4d29-966f-0e3efb23f4dd",
   "metadata": {},
   "outputs": [
    {
     "name": "stdout",
     "output_type": "stream",
     "text": [
      "[0, 4, 16, 36, 64]\n"
     ]
    }
   ],
   "source": [
    "# The same functionality using list comprehension\n",
    "squares = [i ** 2 for i in range(10) if i % 2 == 0]\n",
    "print(squares)  # Output: [0, 4, 16, 36, 64]"
   ]
  },
  {
   "cell_type": "code",
   "execution_count": 6,
   "id": "1514a287-995d-481b-b98b-bf9c9b61f1ee",
   "metadata": {},
   "outputs": [],
   "source": [
    "#input\n",
    "list=[123,234]\n",
    "#output\n",
    "res=[\"123@stu.upes.ac.in\",\"234@stu.upes.ac.in\"]\n",
    "#1 without using map,filter lambda or list comprehension\n",
    "#2 using map, filter ,lambda without using list comprehension\n",
    "#3 using list comprehension"
   ]
  },
  {
   "cell_type": "code",
   "execution_count": 7,
   "id": "04b4a632-cdc5-46de-8b3c-c45536529611",
   "metadata": {},
   "outputs": [
    {
     "name": "stdout",
     "output_type": "stream",
     "text": [
      "res= ['123@stu.upes.ac.in', '234@stu.upes.ac.in']\n"
     ]
    }
   ],
   "source": [
    "#1 without using map,filter lambda or list comprehension\n",
    "list=[123,234]\n",
    "res=[]\n",
    "for i in list:\n",
    "    email=str(i)+\"@stu.upes.ac.in\"\n",
    "    res.append(email)\n",
    "print(\"res=\",res)"
   ]
  },
  {
   "cell_type": "code",
   "execution_count": 8,
   "id": "ec4ef587-660b-44c6-8ffd-f57df668be8e",
   "metadata": {},
   "outputs": [
    {
     "name": "stdout",
     "output_type": "stream",
     "text": [
      "[123, 234]\n",
      "res= ['123@stu.upes.ac.in', '234@stu.upes.ac.in']\n"
     ]
    }
   ],
   "source": [
    "def generate_email_address(sap_ids):\n",
    "    email_list=[]\n",
    "    for id in sap_ids:\n",
    "        email= f\"{id}@stu.upes.ac.in\"\n",
    "        email_list.append(email)\n",
    "    return email_list\n",
    "    \n",
    "\n",
    "sap_ids=[123,234]\n",
    "res=generate_email_address(sap_ids)\n",
    "print(sap_ids)\n",
    "print(\"res=\",res)"
   ]
  },
  {
   "cell_type": "code",
   "execution_count": 10,
   "id": "e161b96d-37ee-4b44-b12b-017ee2cffee6",
   "metadata": {},
   "outputs": [
    {
     "name": "stdout",
     "output_type": "stream",
     "text": [
      "[123, 234, 456]\n",
      "<map object at 0x000001AF4D933A60>\n"
     ]
    }
   ],
   "source": [
    "#2 logic\n",
    "def id_to_email(id):\n",
    "    email=f\"{id}@stu.upes.ac.in\"\n",
    "    return email\n",
    "#id_to_email\n",
    "sap_ids=[123,234,456]\n",
    "res = (map(id_to_email,sap_ids))\n",
    "print(sap_ids)\n",
    "print(res)"
   ]
  },
  {
   "cell_type": "code",
   "execution_count": 11,
   "id": "10be081b-1b71-4c60-a0e9-248d6c36e750",
   "metadata": {},
   "outputs": [
    {
     "name": "stdout",
     "output_type": "stream",
     "text": [
      "[123, 234, 456]\n",
      "['123@stu.upes.ac.in', '234@stu.upes.ac.in', '456@stu.upes.ac.in']\n"
     ]
    }
   ],
   "source": [
    "#3 using list comp\n",
    "res=[f\"{id}@stu.upes.ac.in\" for id in sap_ids]\n",
    "print(sap_ids)\n",
    "print(res)"
   ]
  },
  {
   "cell_type": "code",
   "execution_count": 12,
   "id": "dfbefbb3-c4bf-44f9-b6c7-b2941076cfba",
   "metadata": {},
   "outputs": [
    {
     "name": "stdout",
     "output_type": "stream",
     "text": [
      "[123, 234, 456]\n",
      "['123@stu.upes.ac.in', '234@stu.upes.ac.in', '456@stu.upes.ac.in']\n"
     ]
    }
   ],
   "source": [
    "#3 using list comp\n",
    "res=[f\"{id}@stu.upes.ac.in\" for id in sap_ids]\n",
    "print(sap_ids)\n",
    "print(res)"
   ]
  },
  {
   "cell_type": "code",
   "execution_count": 13,
   "id": "9866d2c2-24ed-40fb-af8d-5558d46a4025",
   "metadata": {},
   "outputs": [
    {
     "name": "stdout",
     "output_type": "stream",
     "text": [
      "Start\n",
      "End after 2 seconds\n"
     ]
    }
   ],
   "source": [
    "#Pausing Execution (sleep):\n",
    "import time\n",
    "print(\"Start\")\n",
    "time.sleep(2)  \n",
    "print(\"End after 2 seconds\")"
   ]
  },
  {
   "cell_type": "code",
   "execution_count": null,
   "id": "6d4d81df-ea56-4216-b72c-061576b56eb0",
   "metadata": {},
   "outputs": [],
   "source": []
  }
 ],
 "metadata": {
  "kernelspec": {
   "display_name": "Python 3 (ipykernel)",
   "language": "python",
   "name": "python3"
  },
  "language_info": {
   "codemirror_mode": {
    "name": "ipython",
    "version": 3
   },
   "file_extension": ".py",
   "mimetype": "text/x-python",
   "name": "python",
   "nbconvert_exporter": "python",
   "pygments_lexer": "ipython3",
   "version": "3.12.6"
  }
 },
 "nbformat": 4,
 "nbformat_minor": 5
}
